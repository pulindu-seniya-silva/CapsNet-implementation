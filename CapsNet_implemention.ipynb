{
  "nbformat": 4,
  "nbformat_minor": 0,
  "metadata": {
    "colab": {
      "provenance": [],
      "authorship_tag": "ABX9TyNy12WJAT/ZvswWY6EFNMRE",
      "include_colab_link": true
    },
    "kernelspec": {
      "name": "python3",
      "display_name": "Python 3"
    },
    "language_info": {
      "name": "python"
    }
  },
  "cells": [
    {
      "cell_type": "markdown",
      "metadata": {
        "id": "view-in-github",
        "colab_type": "text"
      },
      "source": [
        "<a href=\"https://colab.research.google.com/github/pulindu-seniya-silva/CapsNet-implementation/blob/main/CapsNet_implemention.ipynb\" target=\"_parent\"><img src=\"https://colab.research.google.com/assets/colab-badge.svg\" alt=\"Open In Colab\"/></a>"
      ]
    },
    {
      "cell_type": "markdown",
      "source": [
        "✅ Part 1: Data **Preparation**"
      ],
      "metadata": {
        "id": "tL4nheRWuVnM"
      }
    },
    {
      "cell_type": "code",
      "source": [
        "import tensorflow as tf\n",
        "from tensorflow.keras.datasets import mnist\n",
        "from tensorflow.keras.utils import to_categorical\n",
        "\n",
        "# Load and preprocess MNIST\n",
        "(x_train, y_train), (x_test, y_test) = mnist.load_data()\n",
        "x_train = x_train.astype('float32') / 255.0\n",
        "x_test = x_test.astype('float32') / 255.0\n",
        "x_train = x_train[..., tf.newaxis]\n",
        "x_test = x_test[..., tf.newaxis]\n",
        "y_train = to_categorical(y_train, 10)\n",
        "y_test = to_categorical(y_test, 10)\n"
      ],
      "metadata": {
        "id": "zdKI5BEruBci"
      },
      "execution_count": 14,
      "outputs": []
    },
    {
      "cell_type": "markdown",
      "source": [
        "✅ Part 2: Convolution & Primary **Capsules**"
      ],
      "metadata": {
        "id": "YyQRj0cRuYrY"
      }
    },
    {
      "cell_type": "code",
      "source": [
        "from tensorflow.keras import layers\n",
        "\n",
        "def squash(vectors, axis=-1):\n",
        "    s_squared_norm = tf.reduce_sum(tf.square(vectors), axis, keepdims=True)\n",
        "    scale = s_squared_norm / (1.0 + s_squared_norm)\n",
        "    return scale * vectors / tf.sqrt(s_squared_norm + 1e-8)\n",
        "\n",
        "def ConvLayer(inputs):\n",
        "    return layers.Conv2D(256, kernel_size=9, strides=1, activation='relu')(inputs)\n",
        "\n",
        "def PrimaryCaps(inputs, dim_caps=8, n_channels=32, kernel_size=9, strides=2):\n",
        "    conv = layers.Conv2D(filters=dim_caps * n_channels,\n",
        "                         kernel_size=kernel_size,\n",
        "                         strides=strides,\n",
        "                         activation='relu')(inputs)\n",
        "    capsules = layers.Reshape((-1, dim_caps))(conv)\n",
        "    capsules = layers.Lambda(squash)(capsules)\n",
        "    return capsules\n"
      ],
      "metadata": {
        "id": "ai18xOzXuEEF"
      },
      "execution_count": 15,
      "outputs": []
    },
    {
      "cell_type": "markdown",
      "source": [
        "✅ Part 3: Digit Capsules & Dynamic Routing"
      ],
      "metadata": {
        "id": "T580Kn9bubph"
      }
    },
    {
      "cell_type": "code",
      "source": [
        "class DigitCaps(layers.Layer):\n",
        "    def __init__(self, num_caps=10, dim_caps=16, routing_iters=3):\n",
        "        super(DigitCaps, self).__init__()\n",
        "        self.num_caps = num_caps\n",
        "        self.dim_caps = dim_caps\n",
        "        self.routing_iters = routing_iters\n",
        "\n",
        "    def build(self, input_shape):\n",
        "        self.input_num_caps = input_shape[1]\n",
        "        self.input_dim_caps = input_shape[2]\n",
        "        self.W = self.add_weight(\n",
        "            shape=[1, self.input_num_caps, self.num_caps, self.dim_caps, self.input_dim_caps],\n",
        "            initializer='glorot_uniform',\n",
        "            trainable=True\n",
        "        )\n",
        "\n",
        "    def call(self, u):\n",
        "        batch_size = tf.shape(u)[0]\n",
        "        u = tf.expand_dims(tf.expand_dims(u, 2), -1)  # [batch, input_caps, 1, dim, 1]\n",
        "        W_tiled = tf.tile(self.W, [batch_size, 1, 1, 1, 1])\n",
        "        u_hat = tf.matmul(W_tiled, u)  # [batch, input_caps, num_caps, dim_caps, 1]\n",
        "        u_hat = tf.squeeze(u_hat, axis=-1)\n",
        "\n",
        "        b = tf.zeros([batch_size, self.input_num_caps, self.num_caps])\n",
        "        for i in range(self.routing_iters):\n",
        "            c = tf.nn.softmax(b, axis=2)\n",
        "            s = tf.reduce_sum(tf.expand_dims(c, -1) * u_hat, axis=1)\n",
        "            v = squash(s)\n",
        "            if i < self.routing_iters - 1:\n",
        "                b += tf.reduce_sum(u_hat * tf.expand_dims(v, 1), axis=-1)\n",
        "        return v\n"
      ],
      "metadata": {
        "id": "askjokmNuFtB"
      },
      "execution_count": 16,
      "outputs": []
    },
    {
      "cell_type": "markdown",
      "source": [
        "✅ Part 4: Model, Loss, Training & **Evaluation**"
      ],
      "metadata": {
        "id": "lzQSff4fufXh"
      }
    },
    {
      "cell_type": "code",
      "source": [
        "from tensorflow.keras import Input, Model\n",
        "\n",
        "inputs = Input(shape=(28, 28, 1))\n",
        "x = ConvLayer(inputs)\n",
        "x = PrimaryCaps(x)\n",
        "digit_caps = DigitCaps()(x)\n",
        "\n",
        "# Capsule lengths for classification\n",
        "output = layers.Lambda(lambda z: tf.sqrt(tf.reduce_sum(tf.square(z), axis=-1)))(digit_caps)\n",
        "\n",
        "model = Model(inputs=inputs, outputs=output)\n",
        "\n",
        "# Margin loss\n",
        "def margin_loss(y_true, y_pred):\n",
        "    m_plus = 0.9\n",
        "    m_minus = 0.1\n",
        "    lambda_ = 0.5\n",
        "    L = y_true * tf.square(tf.maximum(0., m_plus - y_pred)) + \\\n",
        "        lambda_ * (1 - y_true) * tf.square(tf.maximum(0., y_pred - m_minus))\n",
        "    return tf.reduce_mean(tf.reduce_sum(L, axis=1))\n",
        "\n",
        "model.compile(optimizer='adam', loss=margin_loss, metrics=['accuracy'])\n",
        "\n",
        "# Train model\n",
        "model.fit(x_train, y_train, batch_size=128, epochs=5, validation_data=(x_test, y_test))\n"
      ],
      "metadata": {
        "colab": {
          "base_uri": "https://localhost:8080/"
        },
        "id": "gnIx-yEyuH0i",
        "outputId": "761dba36-7a4e-4d30-a8ee-95fc6ec341c1"
      },
      "execution_count": 17,
      "outputs": [
        {
          "output_type": "stream",
          "name": "stdout",
          "text": [
            "Epoch 1/5\n",
            "\u001b[1m469/469\u001b[0m \u001b[32m━━━━━━━━━━━━━━━━━━━━\u001b[0m\u001b[37m\u001b[0m \u001b[1m3265s\u001b[0m 7s/step - accuracy: 0.7545 - loss: 0.2232 - val_accuracy: 0.9865 - val_loss: 0.0178\n",
            "Epoch 2/5\n",
            "\u001b[1m469/469\u001b[0m \u001b[32m━━━━━━━━━━━━━━━━━━━━\u001b[0m\u001b[37m\u001b[0m \u001b[1m3254s\u001b[0m 7s/step - accuracy: 0.9885 - loss: 0.0146 - val_accuracy: 0.9907 - val_loss: 0.0110\n",
            "Epoch 3/5\n",
            "\u001b[1m469/469\u001b[0m \u001b[32m━━━━━━━━━━━━━━━━━━━━\u001b[0m\u001b[37m\u001b[0m \u001b[1m3207s\u001b[0m 7s/step - accuracy: 0.9931 - loss: 0.0090 - val_accuracy: 0.9931 - val_loss: 0.0090\n",
            "Epoch 4/5\n",
            "\u001b[1m469/469\u001b[0m \u001b[32m━━━━━━━━━━━━━━━━━━━━\u001b[0m\u001b[37m\u001b[0m \u001b[1m3210s\u001b[0m 7s/step - accuracy: 0.9950 - loss: 0.0065 - val_accuracy: 0.9935 - val_loss: 0.0083\n",
            "Epoch 5/5\n",
            "\u001b[1m469/469\u001b[0m \u001b[32m━━━━━━━━━━━━━━━━━━━━\u001b[0m\u001b[37m\u001b[0m \u001b[1m3338s\u001b[0m 7s/step - accuracy: 0.9971 - loss: 0.0047 - val_accuracy: 0.9925 - val_loss: 0.0077\n"
          ]
        },
        {
          "output_type": "execute_result",
          "data": {
            "text/plain": [
              "<keras.src.callbacks.history.History at 0x7f26f4fed250>"
            ]
          },
          "metadata": {},
          "execution_count": 17
        }
      ]
    },
    {
      "cell_type": "code",
      "source": [
        "model.save('capsnet_model.h5')\n",
        "from google.colab import files\n",
        "files.download('capsnet_model.h5')\n",
        "model.save_weights('capsnet.weights.h5')\n",
        "files.download('capsnet.weights.h5')"
      ],
      "metadata": {
        "colab": {
          "base_uri": "https://localhost:8080/",
          "height": 54
        },
        "id": "d72aJTVsCwK4",
        "outputId": "41c4391f-a119-48ee-cc12-1dea49a96b45"
      },
      "execution_count": 19,
      "outputs": [
        {
          "output_type": "stream",
          "name": "stderr",
          "text": [
            "WARNING:absl:You are saving your model as an HDF5 file via `model.save()` or `keras.saving.save_model(model)`. This file format is considered legacy. We recommend using instead the native Keras format, e.g. `model.save('my_model.keras')` or `keras.saving.save_model(model, 'my_model.keras')`. \n"
          ]
        },
        {
          "output_type": "display_data",
          "data": {
            "text/plain": [
              "<IPython.core.display.Javascript object>"
            ],
            "application/javascript": [
              "\n",
              "    async function download(id, filename, size) {\n",
              "      if (!google.colab.kernel.accessAllowed) {\n",
              "        return;\n",
              "      }\n",
              "      const div = document.createElement('div');\n",
              "      const label = document.createElement('label');\n",
              "      label.textContent = `Downloading \"${filename}\": `;\n",
              "      div.appendChild(label);\n",
              "      const progress = document.createElement('progress');\n",
              "      progress.max = size;\n",
              "      div.appendChild(progress);\n",
              "      document.body.appendChild(div);\n",
              "\n",
              "      const buffers = [];\n",
              "      let downloaded = 0;\n",
              "\n",
              "      const channel = await google.colab.kernel.comms.open(id);\n",
              "      // Send a message to notify the kernel that we're ready.\n",
              "      channel.send({})\n",
              "\n",
              "      for await (const message of channel.messages) {\n",
              "        // Send a message to notify the kernel that we're ready.\n",
              "        channel.send({})\n",
              "        if (message.buffers) {\n",
              "          for (const buffer of message.buffers) {\n",
              "            buffers.push(buffer);\n",
              "            downloaded += buffer.byteLength;\n",
              "            progress.value = downloaded;\n",
              "          }\n",
              "        }\n",
              "      }\n",
              "      const blob = new Blob(buffers, {type: 'application/binary'});\n",
              "      const a = document.createElement('a');\n",
              "      a.href = window.URL.createObjectURL(blob);\n",
              "      a.download = filename;\n",
              "      div.appendChild(a);\n",
              "      a.click();\n",
              "      div.remove();\n",
              "    }\n",
              "  "
            ]
          },
          "metadata": {}
        },
        {
          "output_type": "display_data",
          "data": {
            "text/plain": [
              "<IPython.core.display.Javascript object>"
            ],
            "application/javascript": [
              "download(\"download_145fed5d-d6fb-47fe-a446-0c14fb7a5c58\", \"capsnet_model.h5\", 81683720)"
            ]
          },
          "metadata": {}
        },
        {
          "output_type": "display_data",
          "data": {
            "text/plain": [
              "<IPython.core.display.Javascript object>"
            ],
            "application/javascript": [
              "\n",
              "    async function download(id, filename, size) {\n",
              "      if (!google.colab.kernel.accessAllowed) {\n",
              "        return;\n",
              "      }\n",
              "      const div = document.createElement('div');\n",
              "      const label = document.createElement('label');\n",
              "      label.textContent = `Downloading \"${filename}\": `;\n",
              "      div.appendChild(label);\n",
              "      const progress = document.createElement('progress');\n",
              "      progress.max = size;\n",
              "      div.appendChild(progress);\n",
              "      document.body.appendChild(div);\n",
              "\n",
              "      const buffers = [];\n",
              "      let downloaded = 0;\n",
              "\n",
              "      const channel = await google.colab.kernel.comms.open(id);\n",
              "      // Send a message to notify the kernel that we're ready.\n",
              "      channel.send({})\n",
              "\n",
              "      for await (const message of channel.messages) {\n",
              "        // Send a message to notify the kernel that we're ready.\n",
              "        channel.send({})\n",
              "        if (message.buffers) {\n",
              "          for (const buffer of message.buffers) {\n",
              "            buffers.push(buffer);\n",
              "            downloaded += buffer.byteLength;\n",
              "            progress.value = downloaded;\n",
              "          }\n",
              "        }\n",
              "      }\n",
              "      const blob = new Blob(buffers, {type: 'application/binary'});\n",
              "      const a = document.createElement('a');\n",
              "      a.href = window.URL.createObjectURL(blob);\n",
              "      a.download = filename;\n",
              "      div.appendChild(a);\n",
              "      a.click();\n",
              "      div.remove();\n",
              "    }\n",
              "  "
            ]
          },
          "metadata": {}
        },
        {
          "output_type": "display_data",
          "data": {
            "text/plain": [
              "<IPython.core.display.Javascript object>"
            ],
            "application/javascript": [
              "download(\"download_1798826b-d129-4712-ad6a-9d57362f1cfe\", \"capsnet.weights.h5\", 81680240)"
            ]
          },
          "metadata": {}
        }
      ]
    }
  ]
}