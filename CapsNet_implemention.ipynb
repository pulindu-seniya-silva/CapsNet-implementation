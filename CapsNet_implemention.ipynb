{
  "nbformat": 4,
  "nbformat_minor": 0,
  "metadata": {
    "colab": {
      "provenance": [],
      "authorship_tag": "ABX9TyNdkn0vghgrujoDL2051Pz3",
      "include_colab_link": true
    },
    "kernelspec": {
      "name": "python3",
      "display_name": "Python 3"
    },
    "language_info": {
      "name": "python"
    }
  },
  "cells": [
    {
      "cell_type": "markdown",
      "metadata": {
        "id": "view-in-github",
        "colab_type": "text"
      },
      "source": [
        "<a href=\"https://colab.research.google.com/github/pulindu-seniya-silva/CapsNet-implementation/blob/main/CapsNet_implemention.ipynb\" target=\"_parent\"><img src=\"https://colab.research.google.com/assets/colab-badge.svg\" alt=\"Open In Colab\"/></a>"
      ]
    },
    {
      "cell_type": "markdown",
      "source": [
        "✅ Part 1: Data **Preparation**"
      ],
      "metadata": {
        "id": "tL4nheRWuVnM"
      }
    },
    {
      "cell_type": "code",
      "source": [
        "import tensorflow as tf\n",
        "from tensorflow.keras.datasets import mnist\n",
        "from tensorflow.keras.utils import to_categorical\n",
        "\n",
        "# Load and preprocess MNIST\n",
        "(x_train, y_train), (x_test, y_test) = mnist.load_data()\n",
        "x_train = x_train.astype('float32') / 255.0\n",
        "x_test = x_test.astype('float32') / 255.0\n",
        "x_train = x_train[..., tf.newaxis]\n",
        "x_test = x_test[..., tf.newaxis]\n",
        "y_train = to_categorical(y_train, 10)\n",
        "y_test = to_categorical(y_test, 10)\n"
      ],
      "metadata": {
        "id": "zdKI5BEruBci"
      },
      "execution_count": 14,
      "outputs": []
    },
    {
      "cell_type": "markdown",
      "source": [
        "✅ Part 2: Convolution & Primary **Capsules**"
      ],
      "metadata": {
        "id": "YyQRj0cRuYrY"
      }
    },
    {
      "cell_type": "code",
      "source": [
        "from tensorflow.keras import layers\n",
        "\n",
        "def squash(vectors, axis=-1):\n",
        "    s_squared_norm = tf.reduce_sum(tf.square(vectors), axis, keepdims=True)\n",
        "    scale = s_squared_norm / (1.0 + s_squared_norm)\n",
        "    return scale * vectors / tf.sqrt(s_squared_norm + 1e-8)\n",
        "\n",
        "def ConvLayer(inputs):\n",
        "    return layers.Conv2D(256, kernel_size=9, strides=1, activation='relu')(inputs)\n",
        "\n",
        "def PrimaryCaps(inputs, dim_caps=8, n_channels=32, kernel_size=9, strides=2):\n",
        "    conv = layers.Conv2D(filters=dim_caps * n_channels,\n",
        "                         kernel_size=kernel_size,\n",
        "                         strides=strides,\n",
        "                         activation='relu')(inputs)\n",
        "    capsules = layers.Reshape((-1, dim_caps))(conv)\n",
        "    capsules = layers.Lambda(squash)(capsules)\n",
        "    return capsules\n"
      ],
      "metadata": {
        "id": "ai18xOzXuEEF"
      },
      "execution_count": 15,
      "outputs": []
    },
    {
      "cell_type": "markdown",
      "source": [
        "✅ Part 3: Digit Capsules & Dynamic Routing"
      ],
      "metadata": {
        "id": "T580Kn9bubph"
      }
    },
    {
      "cell_type": "code",
      "source": [
        "class DigitCaps(layers.Layer):\n",
        "    def __init__(self, num_caps=10, dim_caps=16, routing_iters=3):\n",
        "        super(DigitCaps, self).__init__()\n",
        "        self.num_caps = num_caps\n",
        "        self.dim_caps = dim_caps\n",
        "        self.routing_iters = routing_iters\n",
        "\n",
        "    def build(self, input_shape):\n",
        "        self.input_num_caps = input_shape[1]\n",
        "        self.input_dim_caps = input_shape[2]\n",
        "        self.W = self.add_weight(\n",
        "            shape=[1, self.input_num_caps, self.num_caps, self.dim_caps, self.input_dim_caps],\n",
        "            initializer='glorot_uniform',\n",
        "            trainable=True\n",
        "        )\n",
        "\n",
        "    def call(self, u):\n",
        "        batch_size = tf.shape(u)[0]\n",
        "        u = tf.expand_dims(tf.expand_dims(u, 2), -1)  # [batch, input_caps, 1, dim, 1]\n",
        "        W_tiled = tf.tile(self.W, [batch_size, 1, 1, 1, 1])\n",
        "        u_hat = tf.matmul(W_tiled, u)  # [batch, input_caps, num_caps, dim_caps, 1]\n",
        "        u_hat = tf.squeeze(u_hat, axis=-1)\n",
        "\n",
        "        b = tf.zeros([batch_size, self.input_num_caps, self.num_caps])\n",
        "        for i in range(self.routing_iters):\n",
        "            c = tf.nn.softmax(b, axis=2)\n",
        "            s = tf.reduce_sum(tf.expand_dims(c, -1) * u_hat, axis=1)\n",
        "            v = squash(s)\n",
        "            if i < self.routing_iters - 1:\n",
        "                b += tf.reduce_sum(u_hat * tf.expand_dims(v, 1), axis=-1)\n",
        "        return v\n"
      ],
      "metadata": {
        "id": "askjokmNuFtB"
      },
      "execution_count": 16,
      "outputs": []
    },
    {
      "cell_type": "markdown",
      "source": [
        "✅ Part 4: Model, Loss, Training & **Evaluation**"
      ],
      "metadata": {
        "id": "lzQSff4fufXh"
      }
    },
    {
      "cell_type": "code",
      "source": [
        "from tensorflow.keras import Input, Model\n",
        "\n",
        "inputs = Input(shape=(28, 28, 1))\n",
        "x = ConvLayer(inputs)\n",
        "x = PrimaryCaps(x)\n",
        "digit_caps = DigitCaps()(x)\n",
        "\n",
        "# Capsule lengths for classification\n",
        "output = layers.Lambda(lambda z: tf.sqrt(tf.reduce_sum(tf.square(z), axis=-1)))(digit_caps)\n",
        "\n",
        "model = Model(inputs=inputs, outputs=output)\n",
        "\n",
        "# Margin loss\n",
        "def margin_loss(y_true, y_pred):\n",
        "    m_plus = 0.9\n",
        "    m_minus = 0.1\n",
        "    lambda_ = 0.5\n",
        "    L = y_true * tf.square(tf.maximum(0., m_plus - y_pred)) + \\\n",
        "        lambda_ * (1 - y_true) * tf.square(tf.maximum(0., y_pred - m_minus))\n",
        "    return tf.reduce_mean(tf.reduce_sum(L, axis=1))\n",
        "\n",
        "model.compile(optimizer='adam', loss=margin_loss, metrics=['accuracy'])\n",
        "\n",
        "# Train model\n",
        "model.fit(x_train, y_train, batch_size=128, epochs=5, validation_data=(x_test, y_test))\n"
      ],
      "metadata": {
        "colab": {
          "base_uri": "https://localhost:8080/"
        },
        "id": "gnIx-yEyuH0i",
        "outputId": "96dec99e-b252-45e2-902e-dcd5192ec1ee"
      },
      "execution_count": null,
      "outputs": [
        {
          "output_type": "stream",
          "name": "stdout",
          "text": [
            "Epoch 1/5\n",
            "\u001b[1m469/469\u001b[0m \u001b[32m━━━━━━━━━━━━━━━━━━━━\u001b[0m\u001b[37m\u001b[0m \u001b[1m3265s\u001b[0m 7s/step - accuracy: 0.7545 - loss: 0.2232 - val_accuracy: 0.9865 - val_loss: 0.0178\n",
            "Epoch 2/5\n",
            "\u001b[1m 34/469\u001b[0m \u001b[32m━\u001b[0m\u001b[37m━━━━━━━━━━━━━━━━━━━\u001b[0m \u001b[1m46:52\u001b[0m 6s/step - accuracy: 0.9863 - loss: 0.0170"
          ]
        }
      ]
    }
  ]
}